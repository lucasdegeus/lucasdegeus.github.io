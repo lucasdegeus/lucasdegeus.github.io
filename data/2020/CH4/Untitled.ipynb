{
 "cells": [
  {
   "cell_type": "code",
   "execution_count": 9,
   "metadata": {},
   "outputs": [
    {
     "ename": "IndentationError",
     "evalue": "expected an indented block (<ipython-input-9-a5a077bfe549>, line 4)",
     "output_type": "error",
     "traceback": [
      "\u001b[1;36m  File \u001b[1;32m\"<ipython-input-9-a5a077bfe549>\"\u001b[1;36m, line \u001b[1;32m4\u001b[0m\n\u001b[1;33m    command = \"copy week1_tile\" + str(j) + \".geojson week\" +str(i) + \"tile\"+str(j) +\".geojson\"\u001b[0m\n\u001b[1;37m          ^\u001b[0m\n\u001b[1;31mIndentationError\u001b[0m\u001b[1;31m:\u001b[0m expected an indented block\n"
     ]
    }
   ],
   "source": [
    "import os\n",
    "for i in range(1,7):\n",
    "    for j in range(1,13):\n",
    "    command = \"copy week1_tile\" + str(j) + \".geojson week\" +str(i) + \"tile\"+str(j) +\".geojson\"\n",
    "#     command = \"rename 1_\"+str(i)+\".geojson week1_tile\"+str(i)+\".geojson\"\n",
    "    os.system(command)\n",
    "    \n",
    "    \n",
    "    \n",
    "    \n",
    "#     copy myfile.txt c:\\my\\location\n"
   ]
  }
 ],
 "metadata": {
  "kernelspec": {
   "display_name": "Python 3",
   "language": "python",
   "name": "python3"
  },
  "language_info": {
   "codemirror_mode": {
    "name": "ipython",
    "version": 3
   },
   "file_extension": ".py",
   "mimetype": "text/x-python",
   "name": "python",
   "nbconvert_exporter": "python",
   "pygments_lexer": "ipython3",
   "version": "3.6.8"
  }
 },
 "nbformat": 4,
 "nbformat_minor": 4
}
