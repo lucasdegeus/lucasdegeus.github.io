{
 "cells": [
  {
   "cell_type": "code",
   "execution_count": 13,
   "metadata": {},
   "outputs": [],
   "source": [
    "import os\n",
    "for i in range(7,8):\n",
    "    for j in range(1,13):\n",
    "        command = \"copy week1_tile\" + str(j) + \".geojson week\" +str(i) + \"tile\"+str(j) + \".geojson\"\n",
    "        os.system(command)\n",
    "    \n",
    "    \n",
    "    \n",
    "    \n",
    "#     copy myfile.txt c:\\my\\location\n"
   ]
  }
 ],
 "metadata": {
  "kernelspec": {
   "display_name": "Python 3",
   "language": "python",
   "name": "python3"
  },
  "language_info": {
   "codemirror_mode": {
    "name": "ipython",
    "version": 3
   },
   "file_extension": ".py",
   "mimetype": "text/x-python",
   "name": "python",
   "nbconvert_exporter": "python",
   "pygments_lexer": "ipython3",
   "version": "3.6.8"
  }
 },
 "nbformat": 4,
 "nbformat_minor": 4
}
