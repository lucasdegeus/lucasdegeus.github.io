{
 "cells": [
  {
   "cell_type": "code",
   "execution_count": 2,
   "metadata": {},
   "outputs": [],
   "source": [
    "import os\n",
    "for j in range(1,13):\n",
    "    command = \"copy 14_\" + str(j) + \".geojson week\" +str(2) + \"tile\"+str(j) + \".geojson\"\n",
    "    os.system(command)\n",
    "    \n",
    "    \n",
    "    \n",
    "    \n",
    "#     copy myfile.txt c:\\my\\location\n"
   ]
  }
 ],
 "metadata": {
  "kernelspec": {
   "display_name": "Python 3",
   "language": "python",
   "name": "python3"
  },
  "language_info": {
   "codemirror_mode": {
    "name": "ipython",
    "version": 3
   },
   "file_extension": ".py",
   "mimetype": "text/x-python",
   "name": "python",
   "nbconvert_exporter": "python",
   "pygments_lexer": "ipython3",
   "version": "3.6.8"
  }
 },
 "nbformat": 4,
 "nbformat_minor": 4
}
